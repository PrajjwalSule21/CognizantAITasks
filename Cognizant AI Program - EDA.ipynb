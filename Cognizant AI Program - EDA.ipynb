{
 "cells": [
  {
   "cell_type": "code",
   "execution_count": 2,
   "id": "cb75b5d2",
   "metadata": {},
   "outputs": [],
   "source": [
    "import pandas as pd\n",
    "import numpy as np\n",
    "import matplotlib.pyplot as plt\n",
    "import seaborn as sns\n",
    "import warnings\n",
    "warnings.filterwarnings(\"ignore\")\n",
    "%matplotlib inline "
   ]
  },
  {
   "cell_type": "code",
   "execution_count": 3,
   "id": "fd1e68df",
   "metadata": {},
   "outputs": [],
   "source": [
    "data = pd.read_csv('sample_sales_data.csv')"
   ]
  },
  {
   "cell_type": "code",
   "execution_count": 10,
   "id": "9cee75a9",
   "metadata": {},
   "outputs": [
    {
     "data": {
      "text/html": [
       "<div>\n",
       "<style scoped>\n",
       "    .dataframe tbody tr th:only-of-type {\n",
       "        vertical-align: middle;\n",
       "    }\n",
       "\n",
       "    .dataframe tbody tr th {\n",
       "        vertical-align: top;\n",
       "    }\n",
       "\n",
       "    .dataframe thead th {\n",
       "        text-align: right;\n",
       "    }\n",
       "</style>\n",
       "<table border=\"1\" class=\"dataframe\">\n",
       "  <thead>\n",
       "    <tr style=\"text-align: right;\">\n",
       "      <th></th>\n",
       "      <th>Unnamed: 0</th>\n",
       "      <th>transaction_id</th>\n",
       "      <th>timestamp</th>\n",
       "      <th>product_id</th>\n",
       "      <th>category</th>\n",
       "      <th>customer_type</th>\n",
       "      <th>unit_price</th>\n",
       "      <th>quantity</th>\n",
       "      <th>total</th>\n",
       "      <th>payment_type</th>\n",
       "    </tr>\n",
       "  </thead>\n",
       "  <tbody>\n",
       "    <tr>\n",
       "      <th>3538</th>\n",
       "      <td>3538</td>\n",
       "      <td>4bba1f0e-8411-4bc8-9627-17861a970ea4</td>\n",
       "      <td>2022-03-01 11:35:06</td>\n",
       "      <td>ec4aa84b-bcb9-4b6a-b5ef-1ab2462e15a0</td>\n",
       "      <td>packaged foods</td>\n",
       "      <td>standard</td>\n",
       "      <td>2.99</td>\n",
       "      <td>3</td>\n",
       "      <td>8.97</td>\n",
       "      <td>cash</td>\n",
       "    </tr>\n",
       "    <tr>\n",
       "      <th>3821</th>\n",
       "      <td>3821</td>\n",
       "      <td>e0c55275-ff22-4adb-8394-6e9ccae7354b</td>\n",
       "      <td>2022-03-04 15:08:01</td>\n",
       "      <td>45e616c3-8582-447b-a897-956565375a3b</td>\n",
       "      <td>beverages</td>\n",
       "      <td>standard</td>\n",
       "      <td>14.49</td>\n",
       "      <td>3</td>\n",
       "      <td>43.47</td>\n",
       "      <td>cash</td>\n",
       "    </tr>\n",
       "    <tr>\n",
       "      <th>5913</th>\n",
       "      <td>5913</td>\n",
       "      <td>ef17dec1-2bd7-4b47-a853-5769235c7847</td>\n",
       "      <td>2022-03-02 15:25:36</td>\n",
       "      <td>0f0341de-4b99-43bf-b4bb-f60af2131d68</td>\n",
       "      <td>baking</td>\n",
       "      <td>basic</td>\n",
       "      <td>2.99</td>\n",
       "      <td>4</td>\n",
       "      <td>11.96</td>\n",
       "      <td>debit card</td>\n",
       "    </tr>\n",
       "    <tr>\n",
       "      <th>1560</th>\n",
       "      <td>1560</td>\n",
       "      <td>601be917-a0ee-4931-a4e5-d560e3a60415</td>\n",
       "      <td>2022-03-01 10:11:46</td>\n",
       "      <td>4c529bbb-2443-43c7-806d-6e09c86ea578</td>\n",
       "      <td>vegetables</td>\n",
       "      <td>standard</td>\n",
       "      <td>4.49</td>\n",
       "      <td>1</td>\n",
       "      <td>4.49</td>\n",
       "      <td>e-wallet</td>\n",
       "    </tr>\n",
       "    <tr>\n",
       "      <th>1524</th>\n",
       "      <td>1524</td>\n",
       "      <td>1275b61e-d776-4a27-96a3-cffa09a20413</td>\n",
       "      <td>2022-03-06 15:59:13</td>\n",
       "      <td>abc7ecb4-9cbf-4276-8d2d-7bdac2ae5e9f</td>\n",
       "      <td>vegetables</td>\n",
       "      <td>gold</td>\n",
       "      <td>4.99</td>\n",
       "      <td>4</td>\n",
       "      <td>19.96</td>\n",
       "      <td>e-wallet</td>\n",
       "    </tr>\n",
       "  </tbody>\n",
       "</table>\n",
       "</div>"
      ],
      "text/plain": [
       "      Unnamed: 0                        transaction_id            timestamp  \\\n",
       "3538        3538  4bba1f0e-8411-4bc8-9627-17861a970ea4  2022-03-01 11:35:06   \n",
       "3821        3821  e0c55275-ff22-4adb-8394-6e9ccae7354b  2022-03-04 15:08:01   \n",
       "5913        5913  ef17dec1-2bd7-4b47-a853-5769235c7847  2022-03-02 15:25:36   \n",
       "1560        1560  601be917-a0ee-4931-a4e5-d560e3a60415  2022-03-01 10:11:46   \n",
       "1524        1524  1275b61e-d776-4a27-96a3-cffa09a20413  2022-03-06 15:59:13   \n",
       "\n",
       "                                product_id        category customer_type  \\\n",
       "3538  ec4aa84b-bcb9-4b6a-b5ef-1ab2462e15a0  packaged foods      standard   \n",
       "3821  45e616c3-8582-447b-a897-956565375a3b       beverages      standard   \n",
       "5913  0f0341de-4b99-43bf-b4bb-f60af2131d68          baking         basic   \n",
       "1560  4c529bbb-2443-43c7-806d-6e09c86ea578      vegetables      standard   \n",
       "1524  abc7ecb4-9cbf-4276-8d2d-7bdac2ae5e9f      vegetables          gold   \n",
       "\n",
       "      unit_price  quantity  total payment_type  \n",
       "3538        2.99         3   8.97         cash  \n",
       "3821       14.49         3  43.47         cash  \n",
       "5913        2.99         4  11.96   debit card  \n",
       "1560        4.49         1   4.49     e-wallet  \n",
       "1524        4.99         4  19.96     e-wallet  "
      ]
     },
     "execution_count": 10,
     "metadata": {},
     "output_type": "execute_result"
    }
   ],
   "source": [
    "data.sample(5)"
   ]
  },
  {
   "cell_type": "code",
   "execution_count": 23,
   "id": "2b87aed1",
   "metadata": {},
   "outputs": [
    {
     "data": {
      "text/plain": [
       "(7829, 10)"
      ]
     },
     "execution_count": 23,
     "metadata": {},
     "output_type": "execute_result"
    }
   ],
   "source": [
    "data.shape"
   ]
  },
  {
   "cell_type": "code",
   "execution_count": 14,
   "id": "68e76b94",
   "metadata": {},
   "outputs": [
    {
     "data": {
      "text/plain": [
       "Unnamed: 0          int64\n",
       "transaction_id     object\n",
       "timestamp          object\n",
       "product_id         object\n",
       "category           object\n",
       "customer_type      object\n",
       "unit_price        float64\n",
       "quantity            int64\n",
       "total             float64\n",
       "payment_type       object\n",
       "dtype: object"
      ]
     },
     "execution_count": 14,
     "metadata": {},
     "output_type": "execute_result"
    }
   ],
   "source": [
    "data.dtypes"
   ]
  },
  {
   "cell_type": "code",
   "execution_count": 22,
   "id": "a41222fc",
   "metadata": {},
   "outputs": [
    {
     "data": {
      "text/plain": [
       "fruit                    998\n",
       "vegetables               846\n",
       "packaged foods           507\n",
       "baked goods              443\n",
       "canned foods             431\n",
       "refrigerated items       425\n",
       "kitchen                  382\n",
       "meat                     382\n",
       "dairy                    375\n",
       "beverages                301\n",
       "cheese                   293\n",
       "cleaning products        292\n",
       "baking                   264\n",
       "snacks                   263\n",
       "frozen                   263\n",
       "seafood                  253\n",
       "medicine                 243\n",
       "baby products            224\n",
       "condiments and sauces    181\n",
       "personal care            177\n",
       "pets                     161\n",
       "spices and herbs         125\n",
       "Name: category, dtype: int64"
      ]
     },
     "execution_count": 22,
     "metadata": {},
     "output_type": "execute_result"
    }
   ],
   "source": [
    "data['category'].value_counts()"
   ]
  },
  {
   "cell_type": "code",
   "execution_count": 24,
   "id": "a31ab927",
   "metadata": {},
   "outputs": [
    {
     "data": {
      "text/plain": [
       "non-member    1601\n",
       "standard      1595\n",
       "premium       1590\n",
       "basic         1526\n",
       "gold          1517\n",
       "Name: customer_type, dtype: int64"
      ]
     },
     "execution_count": 24,
     "metadata": {},
     "output_type": "execute_result"
    }
   ],
   "source": [
    "data['customer_type'].value_counts()"
   ]
  },
  {
   "cell_type": "code",
   "execution_count": 35,
   "id": "17375740",
   "metadata": {},
   "outputs": [
    {
     "data": {
      "text/plain": [
       "non-member    320.2\n",
       "standard      319.0\n",
       "premium       318.0\n",
       "basic         305.2\n",
       "gold          303.4\n",
       "Name: customer_type, dtype: float64"
      ]
     },
     "execution_count": 35,
     "metadata": {},
     "output_type": "execute_result"
    }
   ],
   "source": [
    "data['customer_type'].value_counts()/len(data['customer_type'].value_counts())"
   ]
  },
  {
   "cell_type": "code",
   "execution_count": 30,
   "id": "ba3c98a6",
   "metadata": {},
   "outputs": [
    {
     "data": {
      "text/plain": [
       "fruit                    45.363636\n",
       "vegetables               38.454545\n",
       "packaged foods           23.045455\n",
       "baked goods              20.136364\n",
       "canned foods             19.590909\n",
       "refrigerated items       19.318182\n",
       "kitchen                  17.363636\n",
       "meat                     17.363636\n",
       "dairy                    17.045455\n",
       "beverages                13.681818\n",
       "cheese                   13.318182\n",
       "cleaning products        13.272727\n",
       "baking                   12.000000\n",
       "snacks                   11.954545\n",
       "frozen                   11.954545\n",
       "seafood                  11.500000\n",
       "medicine                 11.045455\n",
       "baby products            10.181818\n",
       "condiments and sauces     8.227273\n",
       "personal care             8.045455\n",
       "pets                      7.318182\n",
       "spices and herbs          5.681818\n",
       "Name: category, dtype: float64"
      ]
     },
     "execution_count": 30,
     "metadata": {},
     "output_type": "execute_result"
    }
   ],
   "source": [
    "data['category'].value_counts()/len(data['category'].value_counts())"
   ]
  },
  {
   "cell_type": "code",
   "execution_count": 36,
   "id": "c2c604ad",
   "metadata": {},
   "outputs": [
    {
     "data": {
      "text/plain": [
       "1    1979\n",
       "4    1976\n",
       "3    1954\n",
       "2    1920\n",
       "Name: quantity, dtype: int64"
      ]
     },
     "execution_count": 36,
     "metadata": {},
     "output_type": "execute_result"
    }
   ],
   "source": [
    "data['quantity'].value_counts()"
   ]
  },
  {
   "cell_type": "code",
   "execution_count": 37,
   "id": "a386d669",
   "metadata": {},
   "outputs": [
    {
     "data": {
      "text/plain": [
       "cash           2027\n",
       "credit card    1949\n",
       "e-wallet       1935\n",
       "debit card     1918\n",
       "Name: payment_type, dtype: int64"
      ]
     },
     "execution_count": 37,
     "metadata": {},
     "output_type": "execute_result"
    }
   ],
   "source": [
    "data['payment_type'].value_counts()"
   ]
  },
  {
   "cell_type": "code",
   "execution_count": 39,
   "id": "d10919d0",
   "metadata": {},
   "outputs": [
    {
     "data": {
      "text/plain": [
       "<AxesSubplot:xlabel='category', ylabel='count'>"
      ]
     },
     "execution_count": 39,
     "metadata": {},
     "output_type": "execute_result"
    },
    {
     "data": {
      "image/png": "[encoded data removed]",
      "text/plain": [
       "<Figure size 1440x864 with 1 Axes>"
      ]
     },
     "metadata": {
      "needs_background": "light"
     },
     "output_type": "display_data"
    }
   ],
   "source": [
    "plt.rcParams['figure.figsize'] = [20, 12]\n",
    "sns.countplot(data['category'])"
   ]
  },
  {
   "cell_type": "code",
   "execution_count": 40,
   "id": "2ae3d6a5",
   "metadata": {},
   "outputs": [
    {
     "data": {
      "text/plain": [
       "<AxesSubplot:xlabel='customer_type', ylabel='count'>"
      ]
     },
     "execution_count": 40,
     "metadata": {},
     "output_type": "execute_result"
    },
    {
     "data": {
      "image/png": "[encoded data removed]",
      "text/plain": [
       "<Figure size 1440x864 with 1 Axes>"
      ]
     },
     "metadata": {
      "needs_background": "light"
     },
     "output_type": "display_data"
    }
   ],
   "source": [
    "plt.rcParams['figure.figsize'] = [20, 12]\n",
    "sns.countplot(data['customer_type'])"
   ]
  },
  {
   "cell_type": "code",
   "execution_count": null,
   "id": "9b45d6a5",
   "metadata": {},
   "outputs": [],
   "source": []
  },
  {
   "cell_type": "code",
   "execution_count": 41,
   "id": "48067b26",
   "metadata": {},
   "outputs": [
    {
     "data": {
      "text/plain": [
       "<AxesSubplot:xlabel='payment_type', ylabel='count'>"
      ]
     },
     "execution_count": 41,
     "metadata": {},
     "output_type": "execute_result"
    },
    {
     "data": {
      "image/png": "[encoded data removed]",
      "text/plain": [
       "<Figure size 1440x864 with 1 Axes>"
      ]
     },
     "metadata": {
      "needs_background": "light"
     },
     "output_type": "display_data"
    }
   ],
   "source": [
    "plt.rcParams['figure.figsize'] = [20, 12]\n",
    "sns.countplot(data['payment_type'])"
   ]
  },
  {
   "cell_type": "code",
   "execution_count": 52,
   "id": "6a7985c0",
   "metadata": {},
   "outputs": [
    {
     "data": {
      "text/plain": [
       "customer_type\n",
       "premium          182\n",
       "non-member       177\n",
       "gold             174\n",
       "basic            160\n",
       "standard         153\n",
       "dtype: int64"
      ]
     },
     "execution_count": 52,
     "metadata": {},
     "output_type": "execute_result"
    }
   ],
   "source": [
    "data[data['category']=='vegetables'][['customer_type']].value_counts()"
   ]
  },
  {
   "cell_type": "code",
   "execution_count": 53,
   "id": "783046d6",
   "metadata": {},
   "outputs": [
    {
     "data": {
      "text/plain": [
       "customer_type\n",
       "standard         222\n",
       "premium          206\n",
       "gold             197\n",
       "non-member       187\n",
       "basic            186\n",
       "dtype: int64"
      ]
     },
     "execution_count": 53,
     "metadata": {},
     "output_type": "execute_result"
    }
   ],
   "source": [
    "data[data['category']=='fruit'][['customer_type']].value_counts()"
   ]
  },
  {
   "cell_type": "code",
   "execution_count": 54,
   "id": "b406a32f",
   "metadata": {},
   "outputs": [
    {
     "data": {
      "text/plain": [
       "<AxesSubplot:ylabel='customer_type'>"
      ]
     },
     "execution_count": 54,
     "metadata": {},
     "output_type": "execute_result"
    },
    {
     "data": {
      "image/png": "[encoded data removed]",
      "text/plain": [
       "<Figure size 1440x864 with 1 Axes>"
      ]
     },
     "metadata": {},
     "output_type": "display_data"
    }
   ],
   "source": [
    "data['customer_type'].value_counts().plot(kind='pie',autopct='%.2f')"
   ]
  },
  {
   "cell_type": "code",
   "execution_count": 55,
   "id": "0bec6d16",
   "metadata": {},
   "outputs": [
    {
     "data": {
      "text/plain": [
       "<AxesSubplot:ylabel='payment_type'>"
      ]
     },
     "execution_count": 55,
     "metadata": {},
     "output_type": "execute_result"
    },
    {
     "data": {
      "image/png": "[encoded data removed]",
      "text/plain": [
       "<Figure size 1440x864 with 1 Axes>"
      ]
     },
     "metadata": {},
     "output_type": "display_data"
    }
   ],
   "source": [
    "data['payment_type'].value_counts().plot(kind='pie',autopct='%.2f')"
   ]
  },
  {
   "cell_type": "code",
   "execution_count": 56,
   "id": "6fecdcaa",
   "metadata": {},
   "outputs": [
    {
     "data": {
      "text/plain": [
       "quantity\n",
       "1           271\n",
       "2           251\n",
       "3           238\n",
       "4           238\n",
       "dtype: int64"
      ]
     },
     "execution_count": 56,
     "metadata": {},
     "output_type": "execute_result"
    }
   ],
   "source": [
    "data[data['category']=='fruit'][['quantity']].value_counts()"
   ]
  },
  {
   "cell_type": "code",
   "execution_count": 58,
   "id": "32d0eb5d",
   "metadata": {},
   "outputs": [
    {
     "data": {
      "text/plain": [
       "quantity\n",
       "3           223\n",
       "1           211\n",
       "4           210\n",
       "2           202\n",
       "dtype: int64"
      ]
     },
     "execution_count": 58,
     "metadata": {},
     "output_type": "execute_result"
    }
   ],
   "source": [
    "data[data['category']=='vegetables'][['quantity']].value_counts()"
   ]
  },
  {
   "cell_type": "code",
   "execution_count": 65,
   "id": "918e1f9e",
   "metadata": {},
   "outputs": [
    {
     "data": {
      "text/plain": [
       "14.97    104\n",
       "3.99     103\n",
       "11.97     98\n",
       "4.99      94\n",
       "19.96     94\n",
       "        ... \n",
       "60.57      2\n",
       "47.98      2\n",
       "17.99      2\n",
       "20.19      1\n",
       "35.98      1\n",
       "Name: total, Length: 256, dtype: int64"
      ]
     },
     "execution_count": 65,
     "metadata": {},
     "output_type": "execute_result"
    }
   ],
   "source": [
    "data['total'].value_counts()"
   ]
  },
  {
   "cell_type": "code",
   "execution_count": 89,
   "id": "40699702",
   "metadata": {},
   "outputs": [],
   "source": [
    "top_least_selling = data.copy()"
   ]
  },
  {
   "cell_type": "code",
   "execution_count": 90,
   "id": "2d18aed0",
   "metadata": {},
   "outputs": [
    {
     "data": {
      "text/plain": [
       "Index(['Unnamed: 0', 'transaction_id', 'timestamp', 'product_id', 'category',\n",
       "       'customer_type', 'unit_price', 'quantity', 'total', 'payment_type'],\n",
       "      dtype='object')"
      ]
     },
     "execution_count": 90,
     "metadata": {},
     "output_type": "execute_result"
    }
   ],
   "source": [
    "top_least_selling.columns"
   ]
  },
  {
   "cell_type": "code",
   "execution_count": 91,
   "id": "414feae6",
   "metadata": {},
   "outputs": [],
   "source": [
    "top_least_selling.drop(columns=['Unnamed: 0', 'transaction_id', 'timestamp', 'product_id',\n",
    "       'customer_type', 'unit_price', 'quantity', 'total', 'payment_type'], inplace=True)"
   ]
  },
  {
   "cell_type": "code",
   "execution_count": 99,
   "id": "a198756a",
   "metadata": {},
   "outputs": [
    {
     "data": {
      "text/plain": [
       "category             \n",
       "fruit                    998\n",
       "vegetables               846\n",
       "packaged foods           507\n",
       "baked goods              443\n",
       "canned foods             431\n",
       "refrigerated items       425\n",
       "meat                     382\n",
       "kitchen                  382\n",
       "dairy                    375\n",
       "beverages                301\n",
       "cheese                   293\n",
       "cleaning products        292\n",
       "baking                   264\n",
       "frozen                   263\n",
       "snacks                   263\n",
       "seafood                  253\n",
       "medicine                 243\n",
       "baby products            224\n",
       "condiments and sauces    181\n",
       "personal care            177\n",
       "pets                     161\n",
       "spices and herbs         125\n",
       "dtype: int64"
      ]
     },
     "execution_count": 99,
     "metadata": {},
     "output_type": "execute_result"
    }
   ],
   "source": [
    "top_least_selling.value_counts()"
   ]
  },
  {
   "cell_type": "code",
   "execution_count": null,
   "id": "c88da938",
   "metadata": {},
   "outputs": [
    {
     "data": {
      "text/plain": [
       "<AxesSubplot:xlabel='timestamp', ylabel='total'>"
      ]
     },
     "execution_count": 108,
     "metadata": {},
     "output_type": "execute_result"
    }
   ],
   "source": [
    "sns.lineplot(data['timestamp'],data['total'])"
   ]
  },
  {
   "cell_type": "code",
   "execution_count": 4,
   "id": "be51701d",
   "metadata": {},
   "outputs": [
    {
     "data": {
      "text/plain": [
       "<AxesSubplot:xlabel='payment_type', ylabel='total'>"
      ]
     },
     "execution_count": 4,
     "metadata": {},
     "output_type": "execute_result"
    },
    {
     "data": {
      "image/png": "[encoded data removed]",
      "text/plain": [
       "<Figure size 432x288 with 1 Axes>"
      ]
     },
     "metadata": {
      "needs_background": "light"
     },
     "output_type": "display_data"
    }
   ],
   "source": [
    "sns.barplot(data['payment_type'], data['total'])"
   ]
  },
  {
   "cell_type": "code",
   "execution_count": 13,
   "id": "33111933",
   "metadata": {},
   "outputs": [
    {
     "data": {
      "text/plain": [
       "<AxesSubplot:xlabel='customer_type', ylabel='total'>"
      ]
     },
     "execution_count": 13,
     "metadata": {},
     "output_type": "execute_result"
    },
    {
     "data": {
      "image/png": "[encoded data removed]",
      "text/plain": [
       "<Figure size 432x288 with 1 Axes>"
      ]
     },
     "metadata": {
      "needs_background": "light"
     },
     "output_type": "display_data"
    }
   ],
   "source": [
    "sns.barplot(data['customer_type'], data['total'])"
   ]
  },
  {
   "cell_type": "code",
   "execution_count": 12,
   "id": "b81a7e70",
   "metadata": {},
   "outputs": [
    {
     "data": {
      "text/html": [
       "<div>\n",
       "<style scoped>\n",
       "    .dataframe tbody tr th:only-of-type {\n",
       "        vertical-align: middle;\n",
       "    }\n",
       "\n",
       "    .dataframe tbody tr th {\n",
       "        vertical-align: top;\n",
       "    }\n",
       "\n",
       "    .dataframe thead th {\n",
       "        text-align: right;\n",
       "    }\n",
       "</style>\n",
       "<table border=\"1\" class=\"dataframe\">\n",
       "  <thead>\n",
       "    <tr style=\"text-align: right;\">\n",
       "      <th></th>\n",
       "      <th>Unnamed: 0</th>\n",
       "      <th>unit_price</th>\n",
       "      <th>quantity</th>\n",
       "      <th>total</th>\n",
       "    </tr>\n",
       "  </thead>\n",
       "  <tbody>\n",
       "    <tr>\n",
       "      <th>count</th>\n",
       "      <td>7829.000000</td>\n",
       "      <td>7829.000000</td>\n",
       "      <td>7829.000000</td>\n",
       "      <td>7829.000000</td>\n",
       "    </tr>\n",
       "    <tr>\n",
       "      <th>mean</th>\n",
       "      <td>3914.000000</td>\n",
       "      <td>7.819480</td>\n",
       "      <td>2.501597</td>\n",
       "      <td>19.709905</td>\n",
       "    </tr>\n",
       "    <tr>\n",
       "      <th>std</th>\n",
       "      <td>2260.181962</td>\n",
       "      <td>5.388088</td>\n",
       "      <td>1.122722</td>\n",
       "      <td>17.446680</td>\n",
       "    </tr>\n",
       "    <tr>\n",
       "      <th>min</th>\n",
       "      <td>0.000000</td>\n",
       "      <td>0.190000</td>\n",
       "      <td>1.000000</td>\n",
       "      <td>0.190000</td>\n",
       "    </tr>\n",
       "    <tr>\n",
       "      <th>25%</th>\n",
       "      <td>1957.000000</td>\n",
       "      <td>3.990000</td>\n",
       "      <td>1.000000</td>\n",
       "      <td>6.570000</td>\n",
       "    </tr>\n",
       "    <tr>\n",
       "      <th>50%</th>\n",
       "      <td>3914.000000</td>\n",
       "      <td>7.190000</td>\n",
       "      <td>3.000000</td>\n",
       "      <td>14.970000</td>\n",
       "    </tr>\n",
       "    <tr>\n",
       "      <th>75%</th>\n",
       "      <td>5871.000000</td>\n",
       "      <td>11.190000</td>\n",
       "      <td>4.000000</td>\n",
       "      <td>28.470000</td>\n",
       "    </tr>\n",
       "    <tr>\n",
       "      <th>max</th>\n",
       "      <td>7828.000000</td>\n",
       "      <td>23.990000</td>\n",
       "      <td>4.000000</td>\n",
       "      <td>95.960000</td>\n",
       "    </tr>\n",
       "  </tbody>\n",
       "</table>\n",
       "</div>"
      ],
      "text/plain": [
       "        Unnamed: 0   unit_price     quantity        total\n",
       "count  7829.000000  7829.000000  7829.000000  7829.000000\n",
       "mean   3914.000000     7.819480     2.501597    19.709905\n",
       "std    2260.181962     5.388088     1.122722    17.446680\n",
       "min       0.000000     0.190000     1.000000     0.190000\n",
       "25%    1957.000000     3.990000     1.000000     6.570000\n",
       "50%    3914.000000     7.190000     3.000000    14.970000\n",
       "75%    5871.000000    11.190000     4.000000    28.470000\n",
       "max    7828.000000    23.990000     4.000000    95.960000"
      ]
     },
     "execution_count": 12,
     "metadata": {},
     "output_type": "execute_result"
    }
   ],
   "source": [
    "data.describe()"
   ]
  },
  {
   "cell_type": "code",
   "execution_count": 36,
   "id": "c7c22db1",
   "metadata": {},
   "outputs": [
    {
     "data": {
      "text/plain": [
       "<AxesSubplot:ylabel='None'>"
      ]
     },
     "execution_count": 36,
     "metadata": {},
     "output_type": "execute_result"
    },
    {
     "data": {
      "image/png": "[encoded data removed]",
      "text/plain": [
       "<Figure size 432x288 with 1 Axes>"
      ]
     },
     "metadata": {},
     "output_type": "display_data"
    }
   ],
   "source": [
    "data[data['category']=='spices and herbs'][['customer_type']].value_counts().plot(kind='pie',autopct='%.2f')"
   ]
  },
  {
   "cell_type": "code",
   "execution_count": 37,
   "id": "8c19b8bd",
   "metadata": {},
   "outputs": [
    {
     "data": {
      "text/plain": [
       "<AxesSubplot:ylabel='None'>"
      ]
     },
     "execution_count": 37,
     "metadata": {},
     "output_type": "execute_result"
    },
    {
     "data": {
      "image/png": "[encoded data removed]",
      "text/plain": [
       "<Figure size 432x288 with 1 Axes>"
      ]
     },
     "metadata": {},
     "output_type": "display_data"
    }
   ],
   "source": [
    "data[data['category']=='spices and herbs'][['payment_type']].value_counts().plot(kind='pie',autopct='%.2f')"
   ]
  },
  {
   "cell_type": "code",
   "execution_count": 42,
   "id": "321fd233",
   "metadata": {},
   "outputs": [
    {
     "data": {
      "text/plain": [
       "<AxesSubplot:ylabel='None'>"
      ]
     },
     "execution_count": 42,
     "metadata": {},
     "output_type": "execute_result"
    },
    {
     "data": {
      "image/png": "[encoded data removed]",
      "text/plain": [
       "<Figure size 432x288 with 1 Axes>"
      ]
     },
     "metadata": {},
     "output_type": "display_data"
    }
   ],
   "source": [
    "data[data['payment_type']=='debit card'][['customer_type']].value_counts().plot(kind='pie',autopct='%.2f')"
   ]
  },
  {
   "cell_type": "code",
   "execution_count": 38,
   "id": "5e9511af",
   "metadata": {},
   "outputs": [
    {
     "data": {
      "text/plain": [
       "cash           2027\n",
       "credit card    1949\n",
       "e-wallet       1935\n",
       "debit card     1918\n",
       "Name: payment_type, dtype: int64"
      ]
     },
     "execution_count": 38,
     "metadata": {},
     "output_type": "execute_result"
    }
   ],
   "source": [
    "data['payment_type'].value_counts()"
   ]
  },
  {
   "cell_type": "code",
   "execution_count": 45,
   "id": "16a9c67f",
   "metadata": {},
   "outputs": [
    {
     "data": {
      "text/plain": [
       "unit_price\n",
       "3.49          19\n",
       "5.49          19\n",
       "14.49         19\n",
       "6.99          17\n",
       "5.19          15\n",
       "10.99         14\n",
       "8.49          13\n",
       "9.99          12\n",
       "16.99         12\n",
       "12.19         11\n",
       "16.19         11\n",
       "4.49           9\n",
       "7.49           6\n",
       "dtype: int64"
      ]
     },
     "execution_count": 45,
     "metadata": {},
     "output_type": "execute_result"
    }
   ],
   "source": [
    "data[data['category']=='personal care'][['unit_price']].value_counts()"
   ]
  },
  {
   "cell_type": "code",
   "execution_count": null,
   "id": "37db00ad",
   "metadata": {},
   "outputs": [],
   "source": []
  }
 ],
 "metadata": {
  "kernelspec": {
   "display_name": "Python 3 (ipykernel)",
   "language": "python",
   "name": "python3"
  },
  "language_info": {
   "codemirror_mode": {
    "name": "ipython",
    "version": 3
   },
   "file_extension": ".py",
   "mimetype": "text/x-python",
   "name": "python",
   "nbconvert_exporter": "python",
   "pygments_lexer": "ipython3",
   "version": "3.9.7"
  }
 },
 "nbformat": 4,
 "nbformat_minor": 5
}
